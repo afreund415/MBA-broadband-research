{
 "cells": [
  {
   "cell_type": "markdown",
   "id": "83ae98d0",
   "metadata": {},
   "source": [
    "<h2> Confidence Intervals for Sample Tiers (Downstream) </h2>"
   ]
  },
  {
   "cell_type": "code",
   "execution_count": 1,
   "id": "d3b8063e",
   "metadata": {},
   "outputs": [],
   "source": [
    "# from IPython.core.display import display, HTML\n",
    "from IPython.display import HTML\n",
    "from IPython.core.magic import register_cell_magic\n",
    "\n",
    "@register_cell_magic\n",
    "def toggle_code(self, cell):\n",
    "    display(HTML('''\n",
    "        <script>code_show=true;\n",
    "        function code_toggle() {\n",
    "            if (code_show) { $('div.input').hide();}\n",
    "            else {$('div.input').show();}\n",
    "            code_show = !code_show\n",
    "        }\n",
    "        $(document).ready(code_toggle);\n",
    "        </script>\n",
    "        <button onClick=\"javascript:code_toggle()\">Toggle code</button>'''\n",
    "    ))\n",
    "    return display(HTML('<p>Click on the button above to show/hide code.</p>'))"
   ]
  },
  {
   "cell_type": "code",
   "execution_count": 139,
   "id": "9f883a09",
   "metadata": {
    "scrolled": true
   },
   "outputs": [
    {
     "data": {
      "text/html": [
       "\n",
       "        <script>code_show=true;\n",
       "        function code_toggle() {\n",
       "            if (code_show) { $('div.input').hide();}\n",
       "            else {$('div.input').show();}\n",
       "            code_show = !code_show\n",
       "        }\n",
       "        $(document).ready(code_toggle);\n",
       "        </script>\n",
       "        <button onClick=\"javascript:code_toggle()\">Toggle code</button>"
      ],
      "text/plain": [
       "<IPython.core.display.HTML object>"
      ]
     },
     "metadata": {},
     "output_type": "display_data"
    },
    {
     "data": {
      "text/html": [
       "<p>Click on the button above to show/hide code.</p>"
      ],
      "text/plain": [
       "<IPython.core.display.HTML object>"
      ]
     },
     "metadata": {},
     "output_type": "display_data"
    }
   ],
   "source": [
    "%%toggle_code\n",
    "import os\n",
    "import matplotlib.pyplot as plt\n",
    "import numpy as np\n",
    "import pandas as pd\n",
    "import scipy as st\n",
    "from scipy.stats import norm\n",
    "from google.cloud import bigquery\n",
    "\n",
    "os.environ['GOOGLE_APPLICATION_CREDENTIALS'] = \"/Users/andreasfreund/.config/gcloud/application_default_credentials.json\"\n",
    "%load_ext google.cloud.bigquery\n",
    "client = bigquery.Client()\n",
    "\n",
    "#setting max rows to print\n",
    "pd.set_option('display.max_rows', 150)\n",
    "\n",
    "# style\n",
    "plt.style.use(\"fivethirtyeight\")\n",
    "%matplotlib inline\n",
    "\n",
    "\n",
    "\n",
    "\n",
    "print('Executed')"
   ]
  },
  {
   "cell_type": "markdown",
   "id": "0e4a0f0e",
   "metadata": {},
   "source": [
    "<h3>Helper Functions</h3>"
   ]
  },
  {
   "cell_type": "code",
   "execution_count": 159,
   "id": "e5ce5aa6",
   "metadata": {},
   "outputs": [],
   "source": [
    "def get5th(downloadTier, isp):\n",
    "    \n",
    "#     isp = \"'\"+isp+\"'\"\n",
    "\n",
    "    fifthQuery = \"\"\"\n",
    "        SELECT \n",
    "        mt.download,\n",
    "        mt.ISP,\n",
    "        mt.Technology,\n",
    "        APPROX_QUANTILES(httpmt.bytes_sec/125000, 100)[OFFSET(5)] as fifthPct,\n",
    "        COUNT(DISTINCT httpmt.unit_id) as totalBoxes,\n",
    "        FROM `broadband-data.mba_data.curr_httpgetmt` as httpmt \n",
    "            INNER JOIN`broadband-data.mba_data.unit-profile-sept2020` as mt\n",
    "            ON httpmt.unit_id=mt.unit_id\n",
    "        WHERE mt.download = {} and mt.ISP = {}\n",
    "        AND (EXTRACT(HOUR FROM httpmt.dtime) >= 19) AND (EXTRACT(HOUR FROM httpmt.dtime) <=23) AND\n",
    "                httpmt.ddate < (CAST('2020-10-01' as DATE))\n",
    "        GROUP BY mt.download, mt.ISP, mt.Technology\n",
    "        \"\"\".format(downloadTier, isp)\n",
    "    df= client.query(fifthQuery).to_dataframe()\n",
    "#     print(df)\n",
    "    \n",
    "    return(float(df['fifthPct']))"
   ]
  },
  {
   "cell_type": "code",
   "execution_count": 160,
   "id": "0397dba0",
   "metadata": {},
   "outputs": [],
   "source": [
    "def ispTierCI(downloadTier, isp):\n",
    "    import scipy.stats as st\n",
    "    \n",
    "    isp = \"'\"+isp+\"'\"\n",
    "    \n",
    "    result = \"\"\"\n",
    "    SELECT \n",
    "        mt.ISP,\n",
    "        mt.Technology, \n",
    "        mt.Download, \n",
    "        mt.unit_id as unitId,\n",
    "        httpmt.dtime as time,\n",
    "        httpmt.ddate as date, \n",
    "        httpmt.bytes_sec/125000 as Mbps, \n",
    "    FROM\n",
    "        `broadband-data.mba_data.curr_httpgetmt` as httpmt\n",
    "        INNER JOIN\n",
    "        `broadband-data.mba_data.unit-profile-sept2020` as mt\n",
    "        ON httpmt.unit_id=mt.Unit_ID\n",
    "    WHERE (EXTRACT(HOUR FROM httpmt.dtime) >= 19) AND (EXTRACT(HOUR FROM httpmt.dtime) <=23) AND\n",
    "                httpmt.ddate < (CAST('2020-10-01' as DATE)) AND mt.ISP = {} AND mt.Download = {}\n",
    "    ORDER BY Mbps\n",
    "    \"\"\".format(isp, downloadTier)\n",
    "    \n",
    "    result = client.query(result).to_dataframe()\n",
    "    tech = (result.iloc[0]['Technology'])\n",
    "    \n",
    "#     result['pct-of-advertised'] = (result['Download']/result['Mbps'] * 100) \n",
    "\n",
    "    \n",
    "#     print(\"95% Confidence Interval (Mbps)\",\n",
    "#           st.norm.interval(alpha=0.95, loc=np.mean(result['Mbps']), \n",
    "#                            scale=st.sem(result['Mbps'])))\n",
    "    \n",
    "#     print(\"95% Confidence Interval (normalized to % of advertised speed)\",\n",
    "#           st.norm.interval(alpha=0.95, loc=np.mean(result['pct-of-advertised']), \n",
    "#                            scale=st.sem(result['pct-of-advertised'])))\n",
    "    \n",
    "    print((\"Getting results for {} {} download tier: {} Mbps...\").format(isp, tech, downloadTier))\n",
    "    \n",
    "    print(\"95% Confidence Interval (Mbps)\",\n",
    "          st.t.interval(0.95, len(result['Mbps']-1), loc=np.mean(result['Mbps']),\n",
    "                                         scale=st.sem(result['Mbps'])))\n",
    "    \n",
    "    _95ConsistentSpeed = get5th(downloadTier, isp)\n",
    "    print(\"95th Consistent Speed for this tier and ISP is\", _95ConsistentSpeed)\n",
    "    \n",
    "    finalResult = result['Mbps'].describe()\n",
    "    print(\"\\n\")\n",
    "    print(\"Variance in Mbps results:\")\n",
    "    return finalResult\n",
    "    \n",
    "    \n",
    "    \n",
    "    "
   ]
  },
  {
   "cell_type": "code",
   "execution_count": 161,
   "id": "fb1330f9",
   "metadata": {
    "scrolled": false
   },
   "outputs": [
    {
     "name": "stdout",
     "output_type": "stream",
     "text": [
      "Unique download tiers with sample size >= 30: \n",
      "\n",
      "\n",
      "    download              ISP Technology  totalBoxes\n",
      "0        1.5      CenturyLink        DSL          65\n",
      "1        3.0      CenturyLink        DSL          50\n",
      "2        5.0  Cincinnati Bell        DSL          49\n",
      "3        6.0         Frontier        DSL          36\n",
      "4       10.0      CenturyLink        DSL          73\n",
      "5       10.0       Windstream        DSL          56\n",
      "6       12.0         Frontier        DSL          66\n",
      "7       12.0      CenturyLink        DSL          66\n",
      "8       12.0       Windstream        DSL          51\n",
      "9       15.0       Windstream        DSL          46\n",
      "10      18.0         Frontier        DSL          44\n",
      "11      20.0      CenturyLink        DSL          57\n",
      "12      25.0      CenturyLink        DSL          87\n",
      "13      25.0          Comcast      Cable          57\n",
      "14      25.0       Windstream        DSL          56\n",
      "15      30.0  Cincinnati Bell        DSL          31\n",
      "16      40.0      CenturyLink        DSL          57\n",
      "17      50.0              Cox      Cable          58\n",
      "18      50.0       Windstream        DSL          32\n",
      "19      50.0         Frontier      Fiber          38\n",
      "20      50.0          Verizon      Fiber          40\n",
      "21      50.0  Cincinnati Bell        DSL          47\n",
      "22      60.0         Mediacom      Cable          41\n",
      "23      75.0          Verizon      Fiber          40\n",
      "24      75.0         Frontier      Fiber          53\n",
      "25      75.0          Comcast      Cable          42\n",
      "26      80.0      CenturyLink        DSL          86\n",
      "27     100.0          Optimum      Cable          38\n",
      "28     100.0         Frontier      Fiber          42\n",
      "29     100.0      CenturyLink        DSL          43\n",
      "30     100.0          Charter      Cable          56\n",
      "31     100.0         Mediacom      Cable          41\n",
      "32     100.0          Comcast      Cable          61\n",
      "33     100.0       Windstream        DSL          34\n",
      "34     100.0          Verizon      Fiber          78\n",
      "35     150.0              Cox      Cable          48\n",
      "36     175.0          Comcast      Cable          41\n",
      "37     200.0          Charter      Cable          84\n",
      "38     200.0          Optimum      Cable          58\n",
      "39     200.0          Comcast      Cable          67\n",
      "40     200.0         Mediacom      Cable          52\n",
      "41     200.0         Frontier      Fiber          33\n",
      "42     250.0  Cincinnati Bell      Fiber          42\n",
      "43     300.0          Comcast      Cable          60\n",
      "44     300.0              Cox      Cable          41\n",
      "45     300.0          Optimum      Cable          42\n",
      "46     400.0          Charter      Cable          92\n",
      "47     500.0         Mediacom      Cable          43\n",
      "48     500.0  Cincinnati Bell      Fiber         141\n",
      "49     500.0         Frontier      Fiber          70\n",
      "50     940.0          Verizon      Fiber          94\n",
      "51    1000.0      CenturyLink      Fiber          80\n",
      "52    1000.0          Comcast      Cable          51\n"
     ]
    }
   ],
   "source": [
    "# list of unique tiers per ISP and tech\n",
    "\n",
    "uniquetiers = \"\"\"\n",
    "SELECT DISTINCT mt.download,mt.ISP, mt.Technology,COUNT(DISTINCT httpmt.unit_id) as totalBoxes,\n",
    "\n",
    "FROM `broadband-data.mba_data.curr_httpgetmt` as httpmt \n",
    "    INNER JOIN`broadband-data.mba_data.unit-profile-sept2020` as mt\n",
    "    ON httpmt.unit_id=mt.unit_id\n",
    "\n",
    "GROUP BY mt.download,mt.ISP, mt.Technology\n",
    "HAVING totalBoxes >= 30\n",
    "ORDER BY mt.download\n",
    "\n",
    "\"\"\"\n",
    "uniquetiers= client.query(uniquetiers).to_dataframe()\n",
    "print(\"Unique download tiers with sample size >= 30: \")\n",
    "print(\"\\n\")\n",
    "print(uniquetiers)"
   ]
  },
  {
   "cell_type": "markdown",
   "id": "10cc935d",
   "metadata": {},
   "source": [
    "<h3>Sample Confidence Intervals </h3>"
   ]
  },
  {
   "cell_type": "code",
   "execution_count": 171,
   "id": "59be6757",
   "metadata": {},
   "outputs": [
    {
     "name": "stdout",
     "output_type": "stream",
     "text": [
      "Getting results for 'Comcast' Cable download tier: 100 Mbps...\n",
      "95% Confidence Interval (Mbps) (114.47810036163058, 115.2760764247807)\n",
      "95th Consistent Speed for this tier and ISP is 93.93108\n",
      "\n",
      "\n",
      "Variance in Mbps results:\n"
     ]
    },
    {
     "data": {
      "text/plain": [
       "count    2767.000000\n",
       "mean      114.877088\n",
       "std        10.703513\n",
       "min         0.227976\n",
       "25%       115.643784\n",
       "50%       118.722288\n",
       "75%       119.027348\n",
       "max       121.017336\n",
       "Name: Mbps, dtype: float64"
      ]
     },
     "execution_count": 171,
     "metadata": {},
     "output_type": "execute_result"
    }
   ],
   "source": [
    "ispTierCI(100, \"Comcast\")"
   ]
  },
  {
   "cell_type": "code",
   "execution_count": 172,
   "id": "124c60c8",
   "metadata": {
    "scrolled": true
   },
   "outputs": [
    {
     "name": "stdout",
     "output_type": "stream",
     "text": [
      "Getting results for 'Mediacom' Cable download tier: 100 Mbps...\n",
      "95% Confidence Interval (Mbps) (128.5120460489106, 129.37855270840592)\n",
      "95th Consistent Speed for this tier and ISP is 114.365784\n",
      "\n",
      "\n",
      "Variance in Mbps results:\n"
     ]
    },
    {
     "data": {
      "text/plain": [
       "count    2221.000000\n",
       "mean      128.945299\n",
       "std        10.411933\n",
       "min        25.194328\n",
       "25%       129.430872\n",
       "50%       132.226312\n",
       "75%       133.252016\n",
       "max       134.058552\n",
       "Name: Mbps, dtype: float64"
      ]
     },
     "execution_count": 172,
     "metadata": {},
     "output_type": "execute_result"
    }
   ],
   "source": [
    "ispTierCI(100, \"Mediacom\")"
   ]
  },
  {
   "cell_type": "code",
   "execution_count": 173,
   "id": "7593d83b",
   "metadata": {},
   "outputs": [
    {
     "name": "stdout",
     "output_type": "stream",
     "text": [
      "Getting results for 'Frontier' Fiber download tier: 100 Mbps...\n",
      "95% Confidence Interval (Mbps) (97.32638190715919, 97.75491753340027)\n",
      "95th Consistent Speed for this tier and ISP is 90.198064\n",
      "\n",
      "\n",
      "Variance in Mbps results:\n"
     ]
    },
    {
     "data": {
      "text/plain": [
       "count    2288.000000\n",
       "mean       97.540650\n",
       "std         5.226453\n",
       "min        16.816456\n",
       "25%        97.192352\n",
       "50%        99.184548\n",
       "75%        99.908648\n",
       "max       102.652296\n",
       "Name: Mbps, dtype: float64"
      ]
     },
     "execution_count": 173,
     "metadata": {},
     "output_type": "execute_result"
    }
   ],
   "source": [
    "ispTierCI(100, \"Frontier\")"
   ]
  },
  {
   "cell_type": "code",
   "execution_count": 174,
   "id": "2cfed238",
   "metadata": {},
   "outputs": [
    {
     "name": "stdout",
     "output_type": "stream",
     "text": [
      "Getting results for 'Charter' Cable download tier: 100 Mbps...\n",
      "95% Confidence Interval (Mbps) (112.35758249630123, 113.12563374396845)\n",
      "95th Consistent Speed for this tier and ISP is 105.683032\n",
      "\n",
      "\n",
      "Variance in Mbps results:\n"
     ]
    },
    {
     "data": {
      "text/plain": [
       "count    3263.000000\n",
       "mean      112.741608\n",
       "std        11.188182\n",
       "min         3.027848\n",
       "25%       112.124068\n",
       "50%       114.261576\n",
       "75%       116.934292\n",
       "max       142.214656\n",
       "Name: Mbps, dtype: float64"
      ]
     },
     "execution_count": 174,
     "metadata": {},
     "output_type": "execute_result"
    }
   ],
   "source": [
    "ispTierCI(100, \"Charter\")"
   ]
  },
  {
   "cell_type": "code",
   "execution_count": 175,
   "id": "7213e84c",
   "metadata": {},
   "outputs": [
    {
     "name": "stdout",
     "output_type": "stream",
     "text": [
      "Getting results for 'Windstream' DSL download tier: 100 Mbps...\n",
      "95% Confidence Interval (Mbps) (95.84516999424982, 96.9408629048856)\n",
      "95th Consistent Speed for this tier and ISP is 74.675136\n",
      "\n",
      "\n",
      "Variance in Mbps results:\n"
     ]
    },
    {
     "data": {
      "text/plain": [
       "count    2082.000000\n",
       "mean       96.393016\n",
       "std        12.746724\n",
       "min        11.921944\n",
       "25%        87.517184\n",
       "50%       100.328292\n",
       "75%       104.824344\n",
       "max       118.440064\n",
       "Name: Mbps, dtype: float64"
      ]
     },
     "execution_count": 175,
     "metadata": {},
     "output_type": "execute_result"
    }
   ],
   "source": [
    "ispTierCI(100, \"Windstream\")"
   ]
  },
  {
   "cell_type": "code",
   "execution_count": 176,
   "id": "d29f023f",
   "metadata": {},
   "outputs": [
    {
     "name": "stdout",
     "output_type": "stream",
     "text": [
      "Getting results for 'Comcast' Cable download tier: 300 Mbps...\n",
      "95% Confidence Interval (Mbps) (344.35260089128485, 346.8073282653128)\n",
      "95th Consistent Speed for this tier and ISP is 288.584288\n",
      "\n",
      "\n",
      "Variance in Mbps results:\n"
     ]
    },
    {
     "data": {
      "text/plain": [
       "count    3327.000000\n",
       "mean      345.579965\n",
       "std        36.107179\n",
       "min         0.176704\n",
       "25%       351.049800\n",
       "50%       356.275248\n",
       "75%       357.077624\n",
       "max       359.690088\n",
       "Name: Mbps, dtype: float64"
      ]
     },
     "execution_count": 176,
     "metadata": {},
     "output_type": "execute_result"
    }
   ],
   "source": [
    "ispTierCI(300, \"Comcast\")"
   ]
  },
  {
   "cell_type": "code",
   "execution_count": 177,
   "id": "ed30cb7c",
   "metadata": {},
   "outputs": [
    {
     "name": "stdout",
     "output_type": "stream",
     "text": [
      "Getting results for 'Frontier' Fiber download tier: 500 Mbps...\n",
      "95% Confidence Interval (Mbps) (472.64551456416604, 477.2070546091673)\n",
      "95th Consistent Speed for this tier and ISP is 350.141888\n",
      "\n",
      "\n",
      "Variance in Mbps results:\n"
     ]
    },
    {
     "data": {
      "text/plain": [
       "count    4650.000000\n",
       "mean      474.926285\n",
       "std        79.331711\n",
       "min        20.154576\n",
       "25%       490.860192\n",
       "50%       501.356104\n",
       "75%       505.047896\n",
       "max       569.141792\n",
       "Name: Mbps, dtype: float64"
      ]
     },
     "execution_count": 177,
     "metadata": {},
     "output_type": "execute_result"
    }
   ],
   "source": [
    "ispTierCI(500, \"Frontier\")"
   ]
  },
  {
   "cell_type": "code",
   "execution_count": 178,
   "id": "2dc52a49",
   "metadata": {},
   "outputs": [
    {
     "name": "stdout",
     "output_type": "stream",
     "text": [
      "Getting results for 'Mediacom' Cable download tier: 500 Mbps...\n",
      "95% Confidence Interval (Mbps) (545.6179244240025, 550.4778455815072)\n",
      "95th Consistent Speed for this tier and ISP is 419.656928\n",
      "\n",
      "\n",
      "Variance in Mbps results:\n"
     ]
    },
    {
     "data": {
      "text/plain": [
       "count    2541.000000\n",
       "mean      548.047885\n",
       "std        62.466411\n",
       "min         1.255616\n",
       "25%       561.026592\n",
       "50%       570.112472\n",
       "75%       571.327232\n",
       "max       572.469672\n",
       "Name: Mbps, dtype: float64"
      ]
     },
     "execution_count": 178,
     "metadata": {},
     "output_type": "execute_result"
    }
   ],
   "source": [
    "ispTierCI(500, \"Mediacom\")"
   ]
  },
  {
   "cell_type": "code",
   "execution_count": 179,
   "id": "0b2dc6f3",
   "metadata": {},
   "outputs": [
    {
     "name": "stdout",
     "output_type": "stream",
     "text": [
      "Getting results for 'Charter' Cable download tier: 400 Mbps...\n",
      "95% Confidence Interval (Mbps) (442.85228829950415, 446.88169592462043)\n",
      "95th Consistent Speed for this tier and ISP is 294.94772\n",
      "\n",
      "\n",
      "Variance in Mbps results:\n"
     ]
    },
    {
     "data": {
      "text/plain": [
       "count    3855.000000\n",
       "mean      444.866992\n",
       "std        63.802681\n",
       "min         0.185472\n",
       "25%       451.656928\n",
       "50%       470.380192\n",
       "75%       478.674856\n",
       "max       482.058080\n",
       "Name: Mbps, dtype: float64"
      ]
     },
     "execution_count": 179,
     "metadata": {},
     "output_type": "execute_result"
    }
   ],
   "source": [
    "ispTierCI(400, \"Charter\")"
   ]
  },
  {
   "cell_type": "code",
   "execution_count": null,
   "id": "18f81758",
   "metadata": {},
   "outputs": [],
   "source": []
  }
 ],
 "metadata": {
  "kernelspec": {
   "display_name": "Python 3 (ipykernel)",
   "language": "python",
   "name": "python3"
  },
  "language_info": {
   "codemirror_mode": {
    "name": "ipython",
    "version": 3
   },
   "file_extension": ".py",
   "mimetype": "text/x-python",
   "name": "python",
   "nbconvert_exporter": "python",
   "pygments_lexer": "ipython3",
   "version": "3.9.0"
  }
 },
 "nbformat": 4,
 "nbformat_minor": 5
}
